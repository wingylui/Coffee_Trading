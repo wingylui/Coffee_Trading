{
 "cells": [
  {
   "attachments": {},
   "cell_type": "markdown",
   "metadata": {},
   "source": [
    "## Importing data into MongoDB\n",
    "---\n",
    "1. To run mongodb in mac need to start brew servies ```brew services start mongodb-community@6.0```\n",
    "2. Then, run ```mongosh``` for getting into mongoDB environment\n",
    "3. Creating new database (coffee_trading) ```use coffee_trading```\n",
    "4. To close the mongodb server ```brew services stop mongodb-community@6.0```\n",
    "---\n",
    "5. importing json files into database using the commend listed below (-d: database name, -c: collection name)\n",
    "```\n",
    "mongoimport --type json -d coffee_trading -c retail_price --jsonArray retail_price.json\n",
    "mongoimport --type json -d coffee_trading -c grower_received --jsonArray grower_received.json\n",
    "mongoimport --type json -d coffee_trading -c total_production --jsonArray total_production.json\n",
    "mongoimport --type json -d coffee_trading -c domestic_consumption --jsonArray domestic_consumption.json\n",
    "mongoimport --type json -d coffee_trading -c import_coffee --jsonArray import.json\n",
    "mongoimport --type json -d coffee_trading -c re-export --jsonArray re-export.json\n",
    "mongoimport --type json -d coffee_trading -c export --jsonArray export.json\n",
    "mongoimport --type json -d coffee_trading -c top_quality_coffee --jsonArray top_quality.json\n",
    "mongoimport --type json -d coffee_trading -c worldmap --jsonArray worldmap.json  \n",
    "```"
   ]
  },
  {
   "cell_type": "code",
   "execution_count": 1,
   "metadata": {},
   "outputs": [],
   "source": [
    "# Import dependencies\n",
    "from pymongo import MongoClient\n",
    "from pprint import pprint"
   ]
  },
  {
   "cell_type": "code",
   "execution_count": 2,
   "metadata": {},
   "outputs": [
    {
     "name": "stdout",
     "output_type": "stream",
     "text": [
      "database: ['admin', 'coffee_trading', 'config', 'local']\n"
     ]
    }
   ],
   "source": [
    "# Create an instance of MongoClient\n",
    "mongo = MongoClient(port = 27017)\n",
    "\n",
    "# confirming that new database was created\n",
    "print(f\"database: {mongo.list_database_names()}\")"
   ]
  },
  {
   "cell_type": "code",
   "execution_count": 3,
   "metadata": {},
   "outputs": [
    {
     "name": "stdout",
     "output_type": "stream",
     "text": [
      "collections: ['import_coffee', 'domestic_consumption', 'grower_received', 'worldmap', 'total_production', 'export', 'retail_price', 'top_quality_coffee', 're-export']\n"
     ]
    }
   ],
   "source": [
    "# assign the uk_food database to a variable name\n",
    "db_coffee_trading = mongo.coffee_trading\n",
    "# review the collections in our new database\n",
    "print(f\"collections: {db_coffee_trading.list_collection_names()}\")"
   ]
  },
  {
   "attachments": {},
   "cell_type": "markdown",
   "metadata": {},
   "source": [
    "## Checking all the collections have the right dataset\n",
    "---"
   ]
  },
  {
   "cell_type": "code",
   "execution_count": 4,
   "metadata": {},
   "outputs": [
    {
     "name": "stdout",
     "output_type": "stream",
     "text": [
      "{'1990': 982.447,\n",
      " '1991': 932.513,\n",
      " '1992': 1121.684,\n",
      " '1993': 441.859,\n",
      " '1994': 641.372,\n",
      " '1995': 785.009,\n",
      " '1996': 849.008,\n",
      " '1997': 623.804,\n",
      " '1998': 991.799,\n",
      " '1999': 427.317,\n",
      " '2000': 362.1618,\n",
      " '2001': 147.236,\n",
      " '2002': 445.455,\n",
      " '2003': 434.658,\n",
      " '2004': 521.66,\n",
      " '2005': 599.149,\n",
      " '2006': 586.51,\n",
      " '2007': 614.1661,\n",
      " '2008': 727.6884,\n",
      " '2009': 456.9613,\n",
      " '2010': 529.7233,\n",
      " '2011': 584.8528,\n",
      " '2012': 499.7094,\n",
      " '2013': 584.4758,\n",
      " '2014': 501.4544,\n",
      " '2015': 414.232,\n",
      " '2016': 452.7566,\n",
      " '2017': 404.1924,\n",
      " '2018': 379.3768,\n",
      " '2019': 383.3125,\n",
      " 'Country (In thousand 60kg bags)': 'Madagascar',\n",
      " 'Species growing': 'Robusta',\n",
      " '_id': ObjectId('64294330bd967366b0b846cb')}\n"
     ]
    }
   ],
   "source": [
    "# total production json\n",
    "total_production = db_coffee_trading.total_production\n",
    "pprint(total_production.find_one())\n"
   ]
  },
  {
   "cell_type": "code",
   "execution_count": 5,
   "metadata": {},
   "outputs": [
    {
     "name": "stdout",
     "output_type": "stream",
     "text": [
      "{'1990': 350.0,\n",
      " '1991': 300.0,\n",
      " '1992': 350.0,\n",
      " '1993': 360.0,\n",
      " '1994': 166.666,\n",
      " '1995': 167.0,\n",
      " '1996': 167.0,\n",
      " '1997': 167.0,\n",
      " '1998': 167.0,\n",
      " '1999': 56.0,\n",
      " '2000': 89.1,\n",
      " '2001': 128.0,\n",
      " '2002': 217.0,\n",
      " '2003': 333.0,\n",
      " '2004': 467.0,\n",
      " '2005': 467.0,\n",
      " '2006': 467.0,\n",
      " '2007': 467.0,\n",
      " '2008': 467.0,\n",
      " '2009': 467.0,\n",
      " '2010': 467.0,\n",
      " '2011': 450.0,\n",
      " '2012': 430.0,\n",
      " '2013': 410.0,\n",
      " '2014': 390.0,\n",
      " '2015': 370.0,\n",
      " '2016': 360.0,\n",
      " '2017': 365.0,\n",
      " '2018': 375.0,\n",
      " '2019': 375.0,\n",
      " 'Country (In thousand 60kg bags)': 'Madagascar',\n",
      " 'Species growing': 'Robusta',\n",
      " '_id': ObjectId('642943309aa1899c27255342')}\n"
     ]
    }
   ],
   "source": [
    "# domestic consumption json\n",
    "domestic_consumption = db_coffee_trading.domestic_consumption\n",
    "pprint(domestic_consumption.find_one())"
   ]
  },
  {
   "cell_type": "code",
   "execution_count": 6,
   "metadata": {},
   "outputs": [
    {
     "name": "stdout",
     "output_type": "stream",
     "text": [
      "{'1990': 381.0,\n",
      " '1991': 367.0,\n",
      " '1992': 379.0,\n",
      " '1993': 348.0,\n",
      " '1994': 445.0,\n",
      " '1995': 557.0,\n",
      " '1996': 481.0,\n",
      " '1997': 496.0,\n",
      " '1998': 492.0,\n",
      " '1999': 393.0,\n",
      " '2000': 345.0,\n",
      " '2001': 319.0,\n",
      " '2002': 309.0,\n",
      " '2003': 357.0,\n",
      " '2004': 396.0,\n",
      " '2005': 428.0,\n",
      " '2006': 443.0,\n",
      " '2007': 482.0,\n",
      " '2008': 540.0,\n",
      " '2009': 529.0,\n",
      " '2010': 544.0,\n",
      " '2011': 692.0,\n",
      " '2012': 672.0,\n",
      " '2013': 636.0,\n",
      " '2014': 643.0,\n",
      " '2015': 585.0,\n",
      " '2016': 494.0,\n",
      " '2017': 503.0,\n",
      " '2018': 530.0,\n",
      " '2019': 4.853482,\n",
      " 'Country (US cents per lb)': 'Denmark',\n",
      " '_id': ObjectId('6429432ff05cd85fb20c8614')}\n"
     ]
    }
   ],
   "source": [
    "retail_price = db_coffee_trading.retail_price\n",
    "pprint(retail_price.find_one())"
   ]
  },
  {
   "cell_type": "code",
   "execution_count": 7,
   "metadata": {},
   "outputs": [
    {
     "name": "stdout",
     "output_type": "stream",
     "text": [
      "{'1990': 0.0,\n",
      " '1991': 0.0,\n",
      " '1992': 0.0,\n",
      " '1993': 0.0,\n",
      " '1994': 0.0,\n",
      " '1995': 0.0,\n",
      " '1996': 0.0,\n",
      " '1997': 0.0,\n",
      " '1998': 0.0,\n",
      " '1999': 0.0,\n",
      " '2000': 0.0,\n",
      " '2001': 0.0,\n",
      " '2002': 0.0,\n",
      " '2003': 0.0,\n",
      " '2004': 0.0,\n",
      " '2005': 0.0,\n",
      " '2006': 0.0,\n",
      " '2007': 0.0,\n",
      " '2008': 0.0,\n",
      " '2009': 0.0,\n",
      " '2010': 0.0,\n",
      " '2011': 0.0,\n",
      " '2012': 0.0,\n",
      " '2013': 0.0,\n",
      " '2014': 0.0,\n",
      " '2015': 0.0,\n",
      " '2016': 0.0,\n",
      " '2017': 0.0,\n",
      " '2018': 0.0,\n",
      " '2019': 0.0,\n",
      " 'Country (In thousand 60-kg bags)': 'Anguilla',\n",
      " '_id': ObjectId('642943303d022dc9eaf5b248')}\n"
     ]
    }
   ],
   "source": [
    "reexport = db_coffee_trading[\"re-export\"]\n",
    "pprint(reexport.find_one())"
   ]
  },
  {
   "cell_type": "code",
   "execution_count": 8,
   "metadata": {},
   "outputs": [
    {
     "name": "stdout",
     "output_type": "stream",
     "text": [
      "{'1990': 0.009,\n",
      " '1991': 0.055,\n",
      " '1992': 0.079,\n",
      " '1993': 0.33,\n",
      " '1994': 0.3,\n",
      " '1995': 0.037,\n",
      " '1996': 0.032,\n",
      " '1997': 0.349,\n",
      " '1998': 0.841,\n",
      " '1999': 0.669,\n",
      " '2000': 0.762,\n",
      " '2001': 0.763,\n",
      " '2002': 0.876,\n",
      " '2003': 0.74,\n",
      " '2004': 0.694,\n",
      " '2005': 0.47,\n",
      " '2006': 0.53,\n",
      " '2007': 0.411,\n",
      " '2008': 0.614,\n",
      " '2009': 0.917,\n",
      " '2010': 0.981,\n",
      " '2011': 0.39,\n",
      " '2012': 0.506,\n",
      " '2013': 0.4,\n",
      " '2014': 0.494,\n",
      " '2015': 0.319,\n",
      " '2016': 0.315,\n",
      " '2017': 0.215,\n",
      " '2018': 0.359,\n",
      " '2019': 0.354,\n",
      " 'Country (In thousand 60-kg bags)': 'Anguilla',\n",
      " '_id': ObjectId('64294330d627f35482feb575')}\n"
     ]
    }
   ],
   "source": [
    "import_coffee = db_coffee_trading.import_coffee\n",
    "pprint(import_coffee.find_one())"
   ]
  },
  {
   "cell_type": "code",
   "execution_count": 9,
   "metadata": {},
   "outputs": [
    {
     "name": "stdout",
     "output_type": "stream",
     "text": [
      "{'1990': 13943.87,\n",
      " '1991': 12599.185,\n",
      " '1992': 16564.37,\n",
      " '1993': 13568.362,\n",
      " '1994': 11768.089,\n",
      " '1995': 9814.197,\n",
      " '1996': 10588.431,\n",
      " '1997': 10918.863,\n",
      " '1998': 11259.929,\n",
      " '1999': 9995.310001,\n",
      " '2000': 9176.66091,\n",
      " '2001': 9943.630001,\n",
      " '2002': 10273.425,\n",
      " '2003': 10244.392,\n",
      " '2004': 10194.315,\n",
      " '2005': 10871.24697,\n",
      " '2006': 10944.85346,\n",
      " '2007': 11300.42069,\n",
      " '2008': 11085.1702,\n",
      " '2009': 7893.926795,\n",
      " '2010': 7821.634504,\n",
      " '2011': 7733.625254,\n",
      " '2012': 7170.203291,\n",
      " '2013': 9669.907367,\n",
      " '2014': 10954.40836,\n",
      " '2015': 12716.38467,\n",
      " '2016': 12831.39073,\n",
      " '2017': 12984.59575,\n",
      " '2018': 12807.97262,\n",
      " '2019': 13672.2256,\n",
      " 'Country (In thousand 60kg bags)': 'Colombia',\n",
      " '_id': ObjectId('64294330f4afcde65314c434')}\n"
     ]
    }
   ],
   "source": [
    "export = db_coffee_trading.export\n",
    "pprint(export.find_one())"
   ]
  },
  {
   "cell_type": "code",
   "execution_count": 10,
   "metadata": {},
   "outputs": [
    {
     "name": "stdout",
     "output_type": "stream",
     "text": [
      "{'1990': 69.523,\n",
      " '1991': 67.1251,\n",
      " '1992': 54.5709,\n",
      " '1993': 50.1234,\n",
      " '1994': 85.9942,\n",
      " '1995': 99.6231,\n",
      " '1996': 93.5556,\n",
      " '1997': 133.1672,\n",
      " '1998': 102.0805,\n",
      " '1999': 86.3828,\n",
      " '2000': 74.9587,\n",
      " '2001': 57.9505,\n",
      " '2002': 52.5669,\n",
      " '2003': 48.343,\n",
      " '2004': 60.8325,\n",
      " '2005': 89.2214,\n",
      " '2006': 89.8083,\n",
      " '2007': 100.0535,\n",
      " '2008': 114.2209,\n",
      " '2009': 138.9551,\n",
      " '2010': 180.5484,\n",
      " '2011': 239.6763,\n",
      " '2012': 166.6921,\n",
      " '2013': 113.9086,\n",
      " '2014': 159.7125,\n",
      " '2015': 119.4042,\n",
      " '2016': 123.5571,\n",
      " '2017': 125.7612,\n",
      " '2018': 113.5179,\n",
      " '2019': 108.6836,\n",
      " 'Country (US cents/lb)': 'Colombia',\n",
      " '_id': ObjectId('6429432f752734f4dbdc838e')}\n"
     ]
    }
   ],
   "source": [
    "grower_received = db_coffee_trading.grower_received\n",
    "pprint(grower_received.find_one())"
   ]
  },
  {
   "cell_type": "code",
   "execution_count": 11,
   "metadata": {},
   "outputs": [
    {
     "name": "stdout",
     "output_type": "stream",
     "text": [
      "{'_id': ObjectId('64294331e92dc931403c5f19'),\n",
      " 'acidity': 9,\n",
      " 'aftertaste': 8,\n",
      " 'aroma': 9,\n",
      " 'body': 9,\n",
      " 'coffee name': 'Guatemala Retiro del Quisaya Natural Process',\n",
      " 'coffee origin country': ['Guatemala'],\n",
      " 'coffee origin location': ['San Martin Jilotepeque',\n",
      "                            'Chimaltenango Department'],\n",
      " 'coffee rating': 94,\n",
      " 'flavor': 9,\n",
      " 'price': 18.95,\n",
      " 'price USD per kg': 55.70416532,\n",
      " 'roast level': 'Medium-Light',\n",
      " 'roaster city': 'Durango',\n",
      " 'roaster country': 'Mexico',\n",
      " 'roaster name': 'Durango Coffee Company'}\n"
     ]
    }
   ],
   "source": [
    "top_quality = db_coffee_trading.top_quality_coffee\n",
    "pprint(top_quality.find_one())"
   ]
  }
 ],
 "metadata": {
  "kernelspec": {
   "display_name": "PythonData",
   "language": "python",
   "name": "python3"
  },
  "language_info": {
   "codemirror_mode": {
    "name": "ipython",
    "version": 3
   },
   "file_extension": ".py",
   "mimetype": "text/x-python",
   "name": "python",
   "nbconvert_exporter": "python",
   "pygments_lexer": "ipython3",
   "version": "3.7.7"
  },
  "orig_nbformat": 4
 },
 "nbformat": 4,
 "nbformat_minor": 2
}

{
 "cells": [
  {
   "attachments": {},
   "cell_type": "markdown",
   "metadata": {},
   "source": [
    "## Importing data into MongoDB\n",
    "---\n",
    "1. To run mongodb in mac need to start brew servies ```brew services start mongodb-community@6.0```\n",
    "2. Then, run ```mongosh``` for getting into mongoDB environment\n",
    "3. Creating new database (coffee_trading) ```use coffee_trading```\n",
    "4. To close the mongodb server ```brew services stop mongodb-community@6.0```\n",
    "---\n",
    "5. importing json files into database using the commend listed below (-d: database name, -c: collection name)\n",
    "```\n",
    "mongoimport --type json -d coffee_trading -c retail_price --jsonArray retail_price.json\n",
    "mongoimport --type json -d coffee_trading -c grower_received --jsonArray grower_received.json\n",
    "mongoimport --type json -d coffee_trading -c total_production --jsonArray total_production.json\n",
    "mongoimport --type json -d coffee_trading -c domestic_consumption --jsonArray domestic_consumption.json\n",
    "mongoimport --type json -d coffee_trading -c import_coffee --jsonArray import.json\n",
    "mongoimport --type json -d coffee_trading -c re-export --jsonArray re-export.json\n",
    "mongoimport --type json -d coffee_trading -c export --jsonArray export.json\n",
    "mongoimport --type json -d coffee_trading -c consumption --jsonArray consumption.json\n",
    "mongoimport --type json -d coffee_trading -c top_quality_coffee --jsonArray top_quality.json\n",
    "mongoimport --type json -d coffee_trading -c worldmap --jsonArray worldmap.json  \n",
    "```"
   ]
  },
  {
   "cell_type": "code",
   "execution_count": 1,
   "metadata": {},
   "outputs": [],
   "source": [
    "# Import dependencies\n",
    "from pymongo import MongoClient\n",
    "from pprint import pprint"
   ]
  },
  {
   "cell_type": "code",
   "execution_count": 2,
   "metadata": {},
   "outputs": [
    {
     "name": "stdout",
     "output_type": "stream",
     "text": [
      "database: ['admin', 'coffee_trading', 'config', 'local']\n"
     ]
    }
   ],
   "source": [
    "# Create an instance of MongoClient\n",
    "mongo = MongoClient(port = 27017)\n",
    "\n",
    "# confirming that new database was created\n",
    "print(f\"database: {mongo.list_database_names()}\")"
   ]
  },
  {
   "cell_type": "code",
   "execution_count": 3,
   "metadata": {},
   "outputs": [
    {
     "name": "stdout",
     "output_type": "stream",
     "text": [
      "collections: ['top_quality_coffee', 'retail_price', 're-export', 'total_production', 'grower_received', 'domestic_consumption', 'consumption', 'import_coffee', 'export', 'worldmap']\n"
     ]
    }
   ],
   "source": [
    "# assign the uk_food database to a variable name\n",
    "db_coffee_trading = mongo.coffee_trading\n",
    "# review the collections in our new database\n",
    "print(f\"collections: {db_coffee_trading.list_collection_names()}\")"
   ]
  },
  {
   "attachments": {},
   "cell_type": "markdown",
   "metadata": {},
   "source": [
    "## Checking all the collections have the right dataset\n",
    "---"
   ]
  },
  {
   "cell_type": "code",
   "execution_count": 4,
   "metadata": {},
   "outputs": [
    {
     "name": "stdout",
     "output_type": "stream",
     "text": [
      "{'1990': 104.628,\n",
      " '1991': 124.286,\n",
      " '1992': 137.161,\n",
      " '1993': 62.111,\n",
      " '1994': 84.112,\n",
      " '1995': 91.235,\n",
      " '1996': 48.65,\n",
      " '1997': 60.82,\n",
      " '1998': 64.321,\n",
      " '1999': 59.0,\n",
      " '2000': 63.138,\n",
      " '2001': 60.39,\n",
      " '2002': 42.464,\n",
      " '2003': 48.155,\n",
      " '2004': 20.615,\n",
      " '2005': 24.416,\n",
      " '2006': 16.663,\n",
      " '2007': 18.812,\n",
      " '2008': 20.753,\n",
      " '2009': 16.922,\n",
      " '2010': 16.9285,\n",
      " '2011': 25.8264,\n",
      " '2012': 22.8262,\n",
      " '2013': 27.7944,\n",
      " '2014': 24.7098,\n",
      " '2015': 21.2015,\n",
      " '2016': 19.516,\n",
      " '2017': 14.4703,\n",
      " '2018': 12.8656,\n",
      " '2019': 16.0431,\n",
      " 'Country (In thousand 60kg bags)': 'Malawi',\n",
      " 'Species growing': 'Arabica',\n",
      " '_id': ObjectId('642a4c93ef1a9d0d5e20eb27')}\n"
     ]
    }
   ],
   "source": [
    "# total production json\n",
    "total_production = db_coffee_trading.total_production\n",
    "pprint(total_production.find_one())\n"
   ]
  },
  {
   "cell_type": "code",
   "execution_count": 5,
   "metadata": {},
   "outputs": [
    {
     "name": "stdout",
     "output_type": "stream",
     "text": [
      "{'1990': 350.0,\n",
      " '1991': 350.0,\n",
      " '1992': 350.0,\n",
      " '1993': 350.0,\n",
      " '1994': 350.0,\n",
      " '1995': 350.0,\n",
      " '1996': 300.0,\n",
      " '1997': 300.0,\n",
      " '1998': 300.0,\n",
      " '1999': 230.0,\n",
      " '2000': 200.0,\n",
      " '2001': 200.0,\n",
      " '2002': 150.0,\n",
      " '2003': 150.0,\n",
      " '2004': 150.0,\n",
      " '2005': 150.0,\n",
      " '2006': 150.0,\n",
      " '2007': 150.0,\n",
      " '2008': 150.0,\n",
      " '2009': 150.0,\n",
      " '2010': 150.0,\n",
      " '2011': 150.0,\n",
      " '2012': 150.0,\n",
      " '2013': 155.0,\n",
      " '2014': 155.0,\n",
      " '2015': 155.0,\n",
      " '2016': 155.0,\n",
      " '2017': 155.0,\n",
      " '2018': 155.0,\n",
      " '2019': 149.0,\n",
      " 'Country (In thousand 60kg bags)': 'Ecuador',\n",
      " 'Species growing': 'Arabica Robusta',\n",
      " '_id': ObjectId('642a4c93c08136754631e13a')}\n"
     ]
    }
   ],
   "source": [
    "# domestic consumption json\n",
    "domestic_consumption = db_coffee_trading.domestic_consumption\n",
    "pprint(domestic_consumption.find_one())"
   ]
  },
  {
   "cell_type": "code",
   "execution_count": 6,
   "metadata": {},
   "outputs": [
    {
     "name": "stdout",
     "output_type": "stream",
     "text": [
      "{'1990': 490.0,\n",
      " '1991': 457.0,\n",
      " '1992': 499.0,\n",
      " '1993': 497.0,\n",
      " '1994': 458.0,\n",
      " '1995': 518.0,\n",
      " '1996': 542.0,\n",
      " '1997': 437.0,\n",
      " '1998': 397.0,\n",
      " '1999': 328.0,\n",
      " '2000': 305.0,\n",
      " '2001': 293.0,\n",
      " '2002': 286.0,\n",
      " '2003': 318.0,\n",
      " '2004': 333.0,\n",
      " '2005': 377.0,\n",
      " '2006': 413.0,\n",
      " '2007': 427.0,\n",
      " '2008': 474.0,\n",
      " '2009': 695.0,\n",
      " '2010': 669.0,\n",
      " '2011': 832.0,\n",
      " '2012': 838.0,\n",
      " '2013': 862.0,\n",
      " '2014': 863.0,\n",
      " '2015': 744.0,\n",
      " '2016': 564.0,\n",
      " '2017': 622.0,\n",
      " '2018': 663.0,\n",
      " '2019': 616.607,\n",
      " 'Country (US cents per lb)': 'Austria',\n",
      " '_id': ObjectId('642a4c934ab02d22e2cba876')}\n"
     ]
    }
   ],
   "source": [
    "retail_price = db_coffee_trading.retail_price\n",
    "pprint(retail_price.find_one())"
   ]
  },
  {
   "cell_type": "code",
   "execution_count": 7,
   "metadata": {},
   "outputs": [
    {
     "name": "stdout",
     "output_type": "stream",
     "text": [
      "{'1990': 7.27,\n",
      " '1991': 0.83,\n",
      " '1992': 0.25,\n",
      " '1993': 0.0,\n",
      " '1994': 0.0,\n",
      " '1995': 0.0,\n",
      " '1996': 0.0,\n",
      " '1997': 0.0,\n",
      " '1998': 0.0,\n",
      " '1999': 0.0,\n",
      " '2000': 0.11,\n",
      " '2001': 0.03,\n",
      " '2002': 0.24,\n",
      " '2003': 0.06,\n",
      " '2004': 0.06,\n",
      " '2005': 0.0,\n",
      " '2006': 0.0,\n",
      " '2007': 0.0,\n",
      " '2008': 0.0,\n",
      " '2009': 0.02,\n",
      " '2010': 0.06,\n",
      " '2011': 0.03,\n",
      " '2012': 0.0,\n",
      " '2013': 0.0,\n",
      " '2014': 0.01,\n",
      " '2015': 0.0,\n",
      " '2016': 0.35,\n",
      " '2017': 0.77,\n",
      " '2018': 0.03,\n",
      " '2019': 0.0,\n",
      " 'Country (In thousand 60kg bags)': 'Aruba',\n",
      " '_id': ObjectId('642a4c940941d6574ad401d4')}\n"
     ]
    }
   ],
   "source": [
    "reexport = db_coffee_trading[\"re-export\"]\n",
    "pprint(reexport.find_one())"
   ]
  },
  {
   "cell_type": "code",
   "execution_count": 8,
   "metadata": {},
   "outputs": [
    {
     "name": "stdout",
     "output_type": "stream",
     "text": [
      "{'1990': 0.25,\n",
      " '1991': 0.25,\n",
      " '1992': 0.25,\n",
      " '1993': 0.25,\n",
      " '1994': 0.25,\n",
      " '1995': 0.25,\n",
      " '1996': 0.867,\n",
      " '1997': 2.9,\n",
      " '1998': 1.0,\n",
      " '1999': 1.5,\n",
      " '2000': 2.933,\n",
      " '2001': 3.43,\n",
      " '2002': 0.965,\n",
      " '2003': 4.247,\n",
      " '2004': 1.127,\n",
      " '2005': 2.59,\n",
      " '2006': 2.01,\n",
      " '2007': 3.397,\n",
      " '2008': 9.68,\n",
      " '2009': 5.706,\n",
      " '2010': 9.665,\n",
      " '2011': 1.04,\n",
      " '2012': 4.637,\n",
      " '2013': 3.033,\n",
      " '2014': 7.792,\n",
      " '2015': 11.539,\n",
      " '2016': 10.681,\n",
      " '2017': 34.357,\n",
      " '2018': 38.556,\n",
      " '2019': 8.158,\n",
      " 'Country (In thousand 60kg bags)': 'Afghanistan',\n",
      " '_id': ObjectId('642a4c9483e8b0068eac85a4')}\n"
     ]
    }
   ],
   "source": [
    "import_coffee = db_coffee_trading.import_coffee\n",
    "pprint(import_coffee.find_one())"
   ]
  },
  {
   "cell_type": "code",
   "execution_count": 9,
   "metadata": {},
   "outputs": [
    {
     "name": "stdout",
     "output_type": "stream",
     "text": [
      "{'1990': 16935.7876,\n",
      " '1991': 21182.7614,\n",
      " '1992': 18790.7192,\n",
      " '1993': 17837.748,\n",
      " '1994': 17273.1476,\n",
      " '1995': 14468.4322,\n",
      " '1996': 15250.609,\n",
      " '1997': 16801.26001,\n",
      " '1998': 18144.38833,\n",
      " '1999': 23149.2038,\n",
      " '2000': 18016.26064,\n",
      " '2001': 23172.48651,\n",
      " '2002': 27981.83894,\n",
      " '2003': 25710.81166,\n",
      " '2004': 26478.47509,\n",
      " '2005': 26198.05545,\n",
      " '2006': 27368.90196,\n",
      " '2007': 28183.57395,\n",
      " '2008': 29510.29569,\n",
      " '2009': 30377.98164,\n",
      " '2010': 33166.64159,\n",
      " '2011': 33806.00933,\n",
      " '2012': 28549.42589,\n",
      " '2013': 31650.56295,\n",
      " '2014': 37335.17283,\n",
      " '2015': 37562.84675,\n",
      " '2016': 34269.15025,\n",
      " '2017': 30924.56785,\n",
      " '2018': 35637.35859,\n",
      " '2019': 40697.86371,\n",
      " 'Country (In thousand 60kg bags)': 'Brazil',\n",
      " '_id': ObjectId('642a4c9432cdbcbe12ddcf3c')}\n"
     ]
    }
   ],
   "source": [
    "export = db_coffee_trading.export\n",
    "pprint(export.find_one())"
   ]
  },
  {
   "cell_type": "code",
   "execution_count": 10,
   "metadata": {},
   "outputs": [
    {
     "name": "stdout",
     "output_type": "stream",
     "text": [
      "{'1990': 44.5867,\n",
      " '1991': 35.7439,\n",
      " '1992': 36.3968,\n",
      " '1993': 44.21055,\n",
      " '1994': 99.9974,\n",
      " '1995': 106.51135,\n",
      " '1996': 83.06235,\n",
      " '1997': 111.63265,\n",
      " '1998': 91.4982,\n",
      " '1999': 65.4966,\n",
      " '2000': 53.75215,\n",
      " '2001': 28.20025,\n",
      " '2002': 25.4513,\n",
      " '2003': 37.21515,\n",
      " '2004': 45.5893,\n",
      " '2005': 66.77835,\n",
      " '2006': 74.52315,\n",
      " '2007': 88.6182,\n",
      " '2008': 100.41765,\n",
      " '2009': 87.11135,\n",
      " '2010': 104.10645,\n",
      " '2011': 164.7769,\n",
      " '2012': 128.34625,\n",
      " '2013': 93.71205,\n",
      " '2014': 107.9303,\n",
      " '2015': 89.00675,\n",
      " '2016': 100.30415,\n",
      " '2017': 104.34355,\n",
      " '2018': 79.10075,\n",
      " '2019': 68.9681,\n",
      " 'Country (US cents/lb)': 'Brazil',\n",
      " '_id': ObjectId('642a4c93a8fee94482010a03')}\n"
     ]
    }
   ],
   "source": [
    "grower_received = db_coffee_trading.grower_received\n",
    "pprint(grower_received.find_one())"
   ]
  },
  {
   "cell_type": "code",
   "execution_count": 11,
   "metadata": {},
   "outputs": [
    {
     "name": "stdout",
     "output_type": "stream",
     "text": [
      "{'1990': 1340.0,\n",
      " '1991': 1302.0,\n",
      " '1992': 1212.0,\n",
      " '1993': 1335.0,\n",
      " '1994': 1086.0,\n",
      " '1995': 1012.0,\n",
      " '1996': 1076.0,\n",
      " '1997': 1087.0,\n",
      " '1998': 1105.0,\n",
      " '1999': 1123.0,\n",
      " '2000': 875.0,\n",
      " '2001': 1013.0,\n",
      " '2002': 926.0,\n",
      " '2003': 720.0,\n",
      " '2004': 996.0,\n",
      " '2005': 772.0,\n",
      " '2006': 612.0,\n",
      " '2007': 847.0,\n",
      " '2008': 908.0,\n",
      " '2009': 886.0,\n",
      " '2010': 903.0,\n",
      " '2011': 1117.0,\n",
      " '2012': 1269.0,\n",
      " '2013': 1249.0,\n",
      " '2014': 1135.0,\n",
      " '2015': 1136.0,\n",
      " '2016': 1193.0,\n",
      " '2017': 1162.0,\n",
      " '2018': 1172.0,\n",
      " '2019': 1173.0,\n",
      " 'Country (In thousand 60kg bags)': 'Austria',\n",
      " '_id': ObjectId('642a4c94f0c393562b5cb55b')}\n"
     ]
    }
   ],
   "source": [
    "consumption = db_coffee_trading.consumption\n",
    "pprint(consumption.find_one())"
   ]
  },
  {
   "cell_type": "code",
   "execution_count": 12,
   "metadata": {},
   "outputs": [
    {
     "name": "stdout",
     "output_type": "stream",
     "text": [
      "{'_id': ObjectId('642a4c945cd267a4de9e9801'),\n",
      " 'acidity': 9,\n",
      " 'aftertaste': 8,\n",
      " 'aroma': 9,\n",
      " 'body': 9,\n",
      " 'coffee name': 'Kenya Gichathaini',\n",
      " 'coffee origin country': ['Kenya'],\n",
      " 'coffee origin location': ['Mathira West District', 'Nyeri growing region'],\n",
      " 'coffee rating': 94,\n",
      " 'flavor': 9,\n",
      " 'price': 25.0,\n",
      " 'price USD per kg': 73.48834475,\n",
      " 'roast level': 'Light',\n",
      " 'roaster city': 'Sacramento',\n",
      " 'roaster country': 'United States of America',\n",
      " 'roaster name': 'Temple Coffee'}\n"
     ]
    }
   ],
   "source": [
    "top_quality = db_coffee_trading.top_quality_coffee\n",
    "pprint(top_quality.find_one())"
   ]
  }
 ],
 "metadata": {
  "kernelspec": {
   "display_name": "PythonData",
   "language": "python",
   "name": "python3"
  },
  "language_info": {
   "codemirror_mode": {
    "name": "ipython",
    "version": 3
   },
   "file_extension": ".py",
   "mimetype": "text/x-python",
   "name": "python",
   "nbconvert_exporter": "python",
   "pygments_lexer": "ipython3",
   "version": "3.7.7"
  },
  "orig_nbformat": 4
 },
 "nbformat": 4,
 "nbformat_minor": 2
}

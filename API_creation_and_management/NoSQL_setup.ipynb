{
 "cells": [
  {
   "attachments": {},
   "cell_type": "markdown",
   "metadata": {},
   "source": [
    "## Importing data into MongoDB\n",
    "---\n",
    "1. To run mongodb in mac need to start brew servies ```brew services start mongodb-community@6.0```\n",
    "2. Then, run ```mongosh``` for getting into mongoDB environment\n",
    "3. Creating new database (coffee_trading) ```use coffee_trading```\n",
    "4. To close the mongodb server ```brew services stop mongodb-community@6.0```\n",
    "---\n",
    "5. importing json files into database using the commend listed below (-d: database name, -c: collection name)\n",
    "```\n",
    "mongoimport --type json -d coffee_trading -c retail_price --jsonArray retail_price.json\n",
    "mongoimport --type json -d coffee_trading -c grower_received --jsonArray grower_received.json\n",
    "mongoimport --type json -d coffee_trading -c total_production --jsonArray total_production.json\n",
    "mongoimport --type json -d coffee_trading -c domestic_consumption --jsonArray domestic_consumption.json\n",
    "mongoimport --type json -d coffee_trading -c import_coffee --jsonArray import.json\n",
    "mongoimport --type json -d coffee_trading -c re-export --jsonArray re-export.json\n",
    "mongoimport --type json -d coffee_trading -c export --jsonArray export.json\n",
    "mongoimport --type json -d coffee_trading -c top_quality_coffee --jsonArray top_quality.json\n",
    "mongoimport --type json -d coffee_trading -c worldmap --jsonArray worldmap.json  \n",
    "```"
   ]
  },
  {
   "cell_type": "code",
   "execution_count": 5,
   "metadata": {},
   "outputs": [],
   "source": [
    "# Import dependencies\n",
    "from pymongo import MongoClient\n",
    "from pprint import pprint"
   ]
  },
  {
   "cell_type": "code",
   "execution_count": 6,
   "metadata": {},
   "outputs": [
    {
     "name": "stdout",
     "output_type": "stream",
     "text": [
      "database: ['admin', 'coffee_trading', 'config', 'local']\n"
     ]
    }
   ],
   "source": [
    "# Create an instance of MongoClient\n",
    "mongo = MongoClient(port = 27017)\n",
    "\n",
    "# confirming that new database was created\n",
    "print(f\"database: {mongo.list_database_names()}\")"
   ]
  },
  {
   "cell_type": "code",
   "execution_count": 7,
   "metadata": {},
   "outputs": [
    {
     "name": "stdout",
     "output_type": "stream",
     "text": [
      "collections: ['domestic_consumption', 'grower_received', 'top_quality_coffee', 'retail_price', 'import_coffee', 'worldmap', 'total_production', 'export', 're-export']\n"
     ]
    }
   ],
   "source": [
    "# assign the uk_food database to a variable name\n",
    "db_coffee_trading = mongo.coffee_trading\n",
    "# review the collections in our new database\n",
    "print(f\"collections: {db_coffee_trading.list_collection_names()}\")"
   ]
  },
  {
   "attachments": {},
   "cell_type": "markdown",
   "metadata": {},
   "source": [
    "## Checking all the collections have the right dataset\n",
    "---"
   ]
  },
  {
   "cell_type": "code",
   "execution_count": 8,
   "metadata": {},
   "outputs": [
    {
     "name": "stdout",
     "output_type": "stream",
     "text": [
      "{'1990': 1503.815,\n",
      " '1991': 2123.824,\n",
      " '1992': 1185.48,\n",
      " '1993': 2069.007,\n",
      " '1994': 2375.766,\n",
      " '1995': 1888.233,\n",
      " '1996': 1992.914,\n",
      " '1997': 1190.663,\n",
      " '1998': 1205.968,\n",
      " '1999': 1197.6832,\n",
      " '2000': 853.817,\n",
      " '2001': 792.847,\n",
      " '2002': 582.224,\n",
      " '2003': 640.79,\n",
      " '2004': 780.435,\n",
      " '2005': 935.3007,\n",
      " '2006': 1034.5199,\n",
      " '2007': 950.4028,\n",
      " '2008': 770.6473,\n",
      " '2009': 813.2849,\n",
      " '2010': 853.9798,\n",
      " '2011': 825.4144,\n",
      " '2012': 828.1024,\n",
      " '2013': 665.545,\n",
      " '2014': 644.0112,\n",
      " '2015': 644.4926,\n",
      " '2016': 644.8845,\n",
      " '2017': 623.5744,\n",
      " '2018': 496.0001,\n",
      " '2019': 558.9352,\n",
      " 'Country (In thousand 60kg bags)': 'Ecuador',\n",
      " 'Species growing': 'Arabica Robusta',\n",
      " '_id': ObjectId('64285694c86689729cea81e5')}\n"
     ]
    }
   ],
   "source": [
    "# total production json\n",
    "total_production = db_coffee_trading.total_production\n",
    "pprint(total_production.find_one())\n"
   ]
  },
  {
   "cell_type": "code",
   "execution_count": 9,
   "metadata": {},
   "outputs": [
    {
     "name": "stdout",
     "output_type": "stream",
     "text": [
      "{'1990': 2.0,\n",
      " '1991': 1.6,\n",
      " '1992': 1.7,\n",
      " '1993': 1.91,\n",
      " '1994': 2.0,\n",
      " '1995': 2.0,\n",
      " '1996': 2.0,\n",
      " '1997': 2.0,\n",
      " '1998': 2.0,\n",
      " '1999': 2.0,\n",
      " '2000': 2.0,\n",
      " '2001': 2.0,\n",
      " '2002': 2.0,\n",
      " '2003': 2.0,\n",
      " '2004': 2.0,\n",
      " '2005': 1.906,\n",
      " '2006': 1.56,\n",
      " '2007': 1.357,\n",
      " '2008': 1.435,\n",
      " '2009': 1.399,\n",
      " '2010': 2.0,\n",
      " '2011': 2.0,\n",
      " '2012': 2.0,\n",
      " '2013': 2.0,\n",
      " '2014': 2.0,\n",
      " '2015': 2.0,\n",
      " '2016': 2.0,\n",
      " '2017': 2.0,\n",
      " '2018': 2.0,\n",
      " '2019': 2.0,\n",
      " 'Country (In thousand 60kg bags)': 'Burundi',\n",
      " 'Species growing': 'Arabica Robusta',\n",
      " '_id': ObjectId('642856a95d3a67fe97a784ee')}\n"
     ]
    }
   ],
   "source": [
    "# domestic consumption json\n",
    "domestic_consumption = db_coffee_trading.domestic_consumption\n",
    "pprint(domestic_consumption.find_one())"
   ]
  },
  {
   "cell_type": "code",
   "execution_count": 10,
   "metadata": {},
   "outputs": [
    {
     "name": "stdout",
     "output_type": "stream",
     "text": [
      "{'1990': 3.73,\n",
      " '1991': 3.43,\n",
      " '1992': 2.31,\n",
      " '1993': 2.03,\n",
      " '1994': 2.4,\n",
      " '1995': 3.69,\n",
      " '1996': 3.3,\n",
      " '1997': 2.76,\n",
      " '1998': 2.78,\n",
      " '1999': 2.55,\n",
      " '2000': 2.15,\n",
      " '2001': 1.99,\n",
      " '2002': 2.07,\n",
      " '2003': 2.5,\n",
      " '2004': 2.72,\n",
      " '2005': 2.75,\n",
      " '2006': 2.97,\n",
      " '2007': 3.41,\n",
      " '2008': 3.86,\n",
      " '2009': 3.79,\n",
      " '2010': 3.62,\n",
      " '2011': 4.13,\n",
      " '2012': 3.92,\n",
      " '2013': 3.92,\n",
      " '2014': 3.77,\n",
      " '2015': 3.11,\n",
      " '2016': 3.26,\n",
      " '2017': 3.4,\n",
      " '2018': 3.68,\n",
      " '2019': 3.474105,\n",
      " 'Country (US$/lb)': 'France',\n",
      " '_id': ObjectId('6428568a8e76233ad90deabf')}\n"
     ]
    }
   ],
   "source": [
    "retail_price = db_coffee_trading.retail_price\n",
    "pprint(retail_price.find_one())"
   ]
  },
  {
   "cell_type": "code",
   "execution_count": 11,
   "metadata": {},
   "outputs": [
    {
     "name": "stdout",
     "output_type": "stream",
     "text": [
      "{'1990': 0.0,\n",
      " '1991': 0.0,\n",
      " '1992': 0.0,\n",
      " '1993': 0.0,\n",
      " '1994': 0.0,\n",
      " '1995': 0.0,\n",
      " '1996': 0.0,\n",
      " '1997': 0.0,\n",
      " '1998': 0.0,\n",
      " '1999': 0.0,\n",
      " '2000': 0.0,\n",
      " '2001': 0.0,\n",
      " '2002': 0.0,\n",
      " '2003': 0.0,\n",
      " '2004': 0.0,\n",
      " '2005': 0.01,\n",
      " '2006': 0.0,\n",
      " '2007': 0.0,\n",
      " '2008': 0.0,\n",
      " '2009': 0.0,\n",
      " '2010': 0.0,\n",
      " '2011': 0.0,\n",
      " '2012': 0.01,\n",
      " '2013': 0.0,\n",
      " '2014': 0.0,\n",
      " '2015': 0.0,\n",
      " '2016': 0.01,\n",
      " '2017': 0.03,\n",
      " '2018': 0.21,\n",
      " '2019': 0.03,\n",
      " 'Country (In thousand 60-kg bags)': 'Antigua and Barbuda',\n",
      " '_id': ObjectId('642856b48d19a5c96bf97528')}\n"
     ]
    }
   ],
   "source": [
    "reexport = db_coffee_trading[\"re-export\"]\n",
    "pprint(reexport.find_one())"
   ]
  },
  {
   "cell_type": "code",
   "execution_count": 12,
   "metadata": {},
   "outputs": [
    {
     "name": "stdout",
     "output_type": "stream",
     "text": [
      "{'1990': 1058.887,\n",
      " '1991': 1782.264,\n",
      " '1992': 862.266,\n",
      " '1993': 1470.025,\n",
      " '1994': 1697.675,\n",
      " '1995': 897.735,\n",
      " '1996': 1229.068,\n",
      " '1997': 1461.023,\n",
      " '1998': 475.395,\n",
      " '1999': 2227.745,\n",
      " '2000': 1778.847,\n",
      " '2001': 1454.679,\n",
      " '2002': 1852.256,\n",
      " '2003': 1752.312,\n",
      " '2004': 2159.302,\n",
      " '2005': 1891.63,\n",
      " '2006': 1836.233,\n",
      " '2007': 1968.357,\n",
      " '2008': 2117.536,\n",
      " '2009': 2066.22,\n",
      " '2010': 2021.446,\n",
      " '2011': 1942.379,\n",
      " '2012': 2116.647,\n",
      " '2013': 2124.726,\n",
      " '2014': 2153.974,\n",
      " '2015': 2159.12,\n",
      " '2016': 2323.13,\n",
      " '2017': 2190.164,\n",
      " '2018': 1819.133,\n",
      " '2019': 2259.792,\n",
      " 'Country (In thousand 60-kg bags)': 'Algeria',\n",
      " '_id': ObjectId('642856af97b231792508056f')}\n"
     ]
    }
   ],
   "source": [
    "import_coffee = db_coffee_trading.import_coffee\n",
    "pprint(import_coffee.find_one())"
   ]
  },
  {
   "cell_type": "code",
   "execution_count": 13,
   "metadata": {},
   "outputs": [
    {
     "name": "stdout",
     "output_type": "stream",
     "text": [
      "{'1990': 13943.87,\n",
      " '1991': 12599.185,\n",
      " '1992': 16564.37,\n",
      " '1993': 13568.362,\n",
      " '1994': 11768.089,\n",
      " '1995': 9814.197,\n",
      " '1996': 10588.431,\n",
      " '1997': 10918.863,\n",
      " '1998': 11259.929,\n",
      " '1999': 9995.310001,\n",
      " '2000': 9176.66091,\n",
      " '2001': 9943.630001,\n",
      " '2002': 10273.425,\n",
      " '2003': 10244.392,\n",
      " '2004': 10194.315,\n",
      " '2005': 10871.24697,\n",
      " '2006': 10944.85346,\n",
      " '2007': 11300.42069,\n",
      " '2008': 11085.1702,\n",
      " '2009': 7893.926795,\n",
      " '2010': 7821.634504,\n",
      " '2011': 7733.625254,\n",
      " '2012': 7170.203291,\n",
      " '2013': 9669.907367,\n",
      " '2014': 10954.40836,\n",
      " '2015': 12716.38467,\n",
      " '2016': 12831.39073,\n",
      " '2017': 12984.59575,\n",
      " '2018': 12807.97262,\n",
      " '2019': 13672.2256,\n",
      " 'Country (In thousand 60kg bags)': 'Colombia',\n",
      " '_id': ObjectId('642856b99fd8447517c69ae4')}\n"
     ]
    }
   ],
   "source": [
    "export = db_coffee_trading.export\n",
    "pprint(export.find_one())"
   ]
  },
  {
   "cell_type": "code",
   "execution_count": 14,
   "metadata": {},
   "outputs": [
    {
     "name": "stdout",
     "output_type": "stream",
     "text": [
      "{'1990': 44.5867,\n",
      " '1991': 35.7439,\n",
      " '1992': 36.3968,\n",
      " '1993': 44.21055,\n",
      " '1994': 99.9974,\n",
      " '1995': 106.51135,\n",
      " '1996': 83.06235,\n",
      " '1997': 111.63265,\n",
      " '1998': 91.4982,\n",
      " '1999': 65.4966,\n",
      " '2000': 53.75215,\n",
      " '2001': 28.20025,\n",
      " '2002': 25.4513,\n",
      " '2003': 37.21515,\n",
      " '2004': 45.5893,\n",
      " '2005': 66.77835,\n",
      " '2006': 74.52315,\n",
      " '2007': 88.6182,\n",
      " '2008': 100.41765,\n",
      " '2009': 87.11135,\n",
      " '2010': 104.10645,\n",
      " '2011': 164.7769,\n",
      " '2012': 128.34625,\n",
      " '2013': 93.71205,\n",
      " '2014': 107.9303,\n",
      " '2015': 89.00675,\n",
      " '2016': 100.30415,\n",
      " '2017': 104.34355,\n",
      " '2018': 79.10075,\n",
      " '2019': 68.9681,\n",
      " 'Country (US cents/lb)': 'Brazil',\n",
      " '_id': ObjectId('6428568f4ac9ebe0c16ab94a')}\n"
     ]
    }
   ],
   "source": [
    "grower_received = db_coffee_trading.grower_received\n",
    "pprint(grower_received.find_one())"
   ]
  },
  {
   "cell_type": "code",
   "execution_count": 15,
   "metadata": {},
   "outputs": [
    {
     "name": "stdout",
     "output_type": "stream",
     "text": [
      "{'_id': ObjectId('642856bea357626af9e628bb'),\n",
      " 'acidity': 9,\n",
      " 'aftertaste': 8,\n",
      " 'aroma': 9,\n",
      " 'body': 9,\n",
      " 'coffee name': 'Ethiopia Yirgacheffe Adame G1 Natural',\n",
      " 'coffee origin country': ['Ethiopia'],\n",
      " 'coffee origin location': ['Yirgacheffe growing region'],\n",
      " 'coffee rating': 94,\n",
      " 'flavor': 9,\n",
      " 'price': 18.15,\n",
      " 'price USD per kg': 80.02645503,\n",
      " 'roast level': 'Light',\n",
      " 'roaster city': 'Taipei',\n",
      " 'roaster country': 'Taiwan',\n",
      " 'roaster name': 'Caoban Coffee'}\n"
     ]
    }
   ],
   "source": [
    "top_quality = db_coffee_trading.top_quality_coffee\n",
    "pprint(top_quality.find_one())"
   ]
  }
 ],
 "metadata": {
  "kernelspec": {
   "display_name": "PythonData",
   "language": "python",
   "name": "python3"
  },
  "language_info": {
   "codemirror_mode": {
    "name": "ipython",
    "version": 3
   },
   "file_extension": ".py",
   "mimetype": "text/x-python",
   "name": "python",
   "nbconvert_exporter": "python",
   "pygments_lexer": "ipython3",
   "version": "3.7.7"
  },
  "orig_nbformat": 4
 },
 "nbformat": 4,
 "nbformat_minor": 2
}

{
 "cells": [
  {
   "attachments": {},
   "cell_type": "markdown",
   "metadata": {},
   "source": [
    "## Importing data into MongoDB\n",
    "---\n",
    "1. To run mongodb in mac need to start brew servies ```brew services start mongodb-community@6.0```\n",
    "2. Then, run ```mongosh``` for getting into mongoDB environment\n",
    "3. Creating new database (coffee_trading) ```use coffee_trading```\n",
    "4. To close the mongodb server ```brew services stop mongodb-community@6.0```\n",
    "---\n",
    "5. importing json files into database using the commend listed below (-d: database name, -c: collection name)\n",
    "```\n",
    "mongoimport --type json -d coffee_trading -c retail_price --jsonArray retail_price.json\n",
    "mongoimport --type json -d coffee_trading -c grower_received --jsonArray grower_received.json\n",
    "mongoimport --type json -d coffee_trading -c total_production --jsonArray total_production.json\n",
    "mongoimport --type json -d coffee_trading -c domestic_consumption --jsonArray domestic_consumption.json\n",
    "mongoimport --type json -d coffee_trading -c import_coffee --jsonArray import.json\n",
    "mongoimport --type json -d coffee_trading -c re-export --jsonArray re-export.json\n",
    "mongoimport --type json -d coffee_trading -c export --jsonArray export.json\n",
    "mongoimport --type json -d coffee_trading -c consumption --jsonArray consumption.json\n",
    "mongoimport --type json -d coffee_trading -c top_quality_coffee --jsonArray top_quality.json\n",
    "mongoimport --type json -d coffee_trading -c worldmap --jsonArray worldmap.json  \n",
    "mongoimport --type json -d coffee_trading -c dashboard_graph_all --jsonArray dashboard_graph_all.json  \n",
    "mongoimport --type json -d coffee_trading -c dashboard_graph_high_rated --jsonArray dashboard_graph_high_rated.json  \n",
    "mongoimport --type json -d coffee_trading -c dashboard_graph_low_price --jsonArray dashboard_graph_low_price.json  \n",
    "```"
   ]
  },
  {
   "cell_type": "code",
   "execution_count": 2,
   "metadata": {},
   "outputs": [],
   "source": [
    "# Import dependencies\n",
    "from pymongo import MongoClient\n",
    "from pprint import pprint"
   ]
  },
  {
   "cell_type": "code",
   "execution_count": 3,
   "metadata": {},
   "outputs": [
    {
     "name": "stdout",
     "output_type": "stream",
     "text": [
      "database: ['admin', 'coffee_trading', 'config', 'local']\n"
     ]
    }
   ],
   "source": [
    "# Create an instance of MongoClient\n",
    "mongo = MongoClient(port = 27017)\n",
    "\n",
    "# confirming that new database was created\n",
    "print(f\"database: {mongo.list_database_names()}\")"
   ]
  },
  {
   "cell_type": "code",
   "execution_count": 4,
   "metadata": {},
   "outputs": [
    {
     "name": "stdout",
     "output_type": "stream",
     "text": [
      "collections: ['import_coffee', 'top_quality_coffee', 'domestic_consumption', 're-export', 'worldmap', 'dashboard_graph_all', 'dashboard_graph_high_rated', 'dashboard_graph_low_price', 'consumption', 'grower_received', 'total_production', 'retail_price', 'export']\n"
     ]
    }
   ],
   "source": [
    "# assign the uk_food database to a variable name\n",
    "db_coffee_trading = mongo.coffee_trading\n",
    "# review the collections in our new database\n",
    "print(f\"collections: {db_coffee_trading.list_collection_names()}\")"
   ]
  },
  {
   "attachments": {},
   "cell_type": "markdown",
   "metadata": {},
   "source": [
    "## Checking all the collections have the right dataset\n",
    "---"
   ]
  },
  {
   "cell_type": "code",
   "execution_count": 5,
   "metadata": {},
   "outputs": [
    {
     "name": "stdout",
     "output_type": "stream",
     "text": [
      "{'1990': 104.628,\n",
      " '1991': 124.286,\n",
      " '1992': 137.161,\n",
      " '1993': 62.111,\n",
      " '1994': 84.112,\n",
      " '1995': 91.235,\n",
      " '1996': 48.65,\n",
      " '1997': 60.82,\n",
      " '1998': 64.321,\n",
      " '1999': 59.0,\n",
      " '2000': 63.138,\n",
      " '2001': 60.39,\n",
      " '2002': 42.464,\n",
      " '2003': 48.155,\n",
      " '2004': 20.615,\n",
      " '2005': 24.416,\n",
      " '2006': 16.663,\n",
      " '2007': 18.812,\n",
      " '2008': 20.753,\n",
      " '2009': 16.922,\n",
      " '2010': 16.9285,\n",
      " '2011': 25.8264,\n",
      " '2012': 22.8262,\n",
      " '2013': 27.7944,\n",
      " '2014': 24.7098,\n",
      " '2015': 21.2015,\n",
      " '2016': 19.516,\n",
      " '2017': 14.4703,\n",
      " '2018': 12.8656,\n",
      " '2019': 16.0431,\n",
      " 'Country (In thousand 60kg bags)': 'Malawi',\n",
      " 'Species growing': 'Arabica',\n",
      " '_id': ObjectId('642d99b4d91cf581bf7afffb')}\n"
     ]
    }
   ],
   "source": [
    "# total production json\n",
    "total_production = db_coffee_trading.total_production\n",
    "pprint(total_production.find_one())\n"
   ]
  },
  {
   "cell_type": "code",
   "execution_count": 6,
   "metadata": {},
   "outputs": [
    {
     "name": "stdout",
     "output_type": "stream",
     "text": [
      "{'1990': 2.0,\n",
      " '1991': 2.0,\n",
      " '1992': 2.0,\n",
      " '1993': 2.0,\n",
      " '1994': 2.0,\n",
      " '1995': 2.0,\n",
      " '1996': 2.0,\n",
      " '1997': 2.0,\n",
      " '1998': 2.0,\n",
      " '1999': 1.0,\n",
      " '2000': 1.0,\n",
      " '2001': 1.0,\n",
      " '2002': 1.0,\n",
      " '2003': 1.0,\n",
      " '2004': 1.0,\n",
      " '2005': 1.0,\n",
      " '2006': 1.0,\n",
      " '2007': 1.0,\n",
      " '2008': 1.0,\n",
      " '2009': 1.0,\n",
      " '2010': 1.0,\n",
      " '2011': 1.0,\n",
      " '2012': 1.0,\n",
      " '2013': 1.0,\n",
      " '2014': 1.0,\n",
      " '2015': 1.0,\n",
      " '2016': 1.0,\n",
      " '2017': 1.0,\n",
      " '2018': 1.0,\n",
      " '2019': 1.0,\n",
      " 'Country (In thousand 60kg bags)': 'Malawi',\n",
      " 'Species growing': 'Arabica',\n",
      " '_id': ObjectId('642d99b44b8aecaa54815aab')}\n"
     ]
    }
   ],
   "source": [
    "# domestic consumption json\n",
    "domestic_consumption = db_coffee_trading.domestic_consumption\n",
    "pprint(domestic_consumption.find_one())"
   ]
  },
  {
   "cell_type": "code",
   "execution_count": 7,
   "metadata": {},
   "outputs": [
    {
     "name": "stdout",
     "output_type": "stream",
     "text": [
      "{'1990': 283.0,\n",
      " '1991': 280.0,\n",
      " '1992': 287.0,\n",
      " '1993': 260.0,\n",
      " '1994': 318.0,\n",
      " '1995': 426.0,\n",
      " '1996': 413.0,\n",
      " '1997': 404.0,\n",
      " '1998': 461.0,\n",
      " '1999': 439.0,\n",
      " '2000': 358.0,\n",
      " '2001': 358.0,\n",
      " '2002': 405.0,\n",
      " '2003': 492.0,\n",
      " '2004': 523.0,\n",
      " '2005': 528.0,\n",
      " '2006': 534.0,\n",
      " '2007': 576.0,\n",
      " '2008': 567.0,\n",
      " '2009': 553.0,\n",
      " '2010': 521.0,\n",
      " '2011': 606.0,\n",
      " '2012': 636.0,\n",
      " '2013': 647.0,\n",
      " '2014': 648.0,\n",
      " '2015': 530.0,\n",
      " '2016': 530.0,\n",
      " '2017': 550.0,\n",
      " '2018': 579.0,\n",
      " '2019': 539.3971,\n",
      " 'Country (US cents per lb)': 'Cyprus',\n",
      " '_id': ObjectId('642d99b4358aa09a2cb625a1')}\n"
     ]
    }
   ],
   "source": [
    "retail_price = db_coffee_trading.retail_price\n",
    "pprint(retail_price.find_one())"
   ]
  },
  {
   "cell_type": "code",
   "execution_count": 8,
   "metadata": {},
   "outputs": [
    {
     "name": "stdout",
     "output_type": "stream",
     "text": [
      "{'1990': 0.0,\n",
      " '1991': 0.0,\n",
      " '1992': 0.0,\n",
      " '1993': 0.0,\n",
      " '1994': 0.0,\n",
      " '1995': 0.0,\n",
      " '1996': 0.0,\n",
      " '1997': 0.0,\n",
      " '1998': 0.0,\n",
      " '1999': 0.0,\n",
      " '2000': 0.0,\n",
      " '2001': 0.0,\n",
      " '2002': 0.0,\n",
      " '2003': 0.0,\n",
      " '2004': 0.0,\n",
      " '2005': 0.01,\n",
      " '2006': 0.0,\n",
      " '2007': 0.0,\n",
      " '2008': 0.0,\n",
      " '2009': 0.0,\n",
      " '2010': 0.0,\n",
      " '2011': 0.0,\n",
      " '2012': 0.01,\n",
      " '2013': 0.0,\n",
      " '2014': 0.0,\n",
      " '2015': 0.0,\n",
      " '2016': 0.01,\n",
      " '2017': 0.03,\n",
      " '2018': 0.21,\n",
      " '2019': 0.03,\n",
      " 'Country (In thousand 60kg bags)': 'Antigua and Barbuda',\n",
      " '_id': ObjectId('642d99b56cabc564d7aa0f36')}\n"
     ]
    }
   ],
   "source": [
    "reexport = db_coffee_trading[\"re-export\"]\n",
    "pprint(reexport.find_one())"
   ]
  },
  {
   "cell_type": "code",
   "execution_count": 9,
   "metadata": {},
   "outputs": [
    {
     "name": "stdout",
     "output_type": "stream",
     "text": [
      "{'1990': 0.718,\n",
      " '1991': 0.602,\n",
      " '1992': 0.303,\n",
      " '1993': 0.261,\n",
      " '1994': 0.321,\n",
      " '1995': 0.332,\n",
      " '1996': 0.107,\n",
      " '1997': 1.103,\n",
      " '1998': 0.17,\n",
      " '1999': 0.186,\n",
      " '2000': 1.019,\n",
      " '2001': 1.088,\n",
      " '2002': 0.453,\n",
      " '2003': 0.693,\n",
      " '2004': 0.552,\n",
      " '2005': 1.105,\n",
      " '2006': 1.139,\n",
      " '2007': 1.38,\n",
      " '2008': 1.336,\n",
      " '2009': 1.714,\n",
      " '2010': 1.95,\n",
      " '2011': 3.443,\n",
      " '2012': 3.459,\n",
      " '2013': 2.165,\n",
      " '2014': 2.09,\n",
      " '2015': 2.833,\n",
      " '2016': 1.862,\n",
      " '2017': 4.492,\n",
      " '2018': 4.445,\n",
      " '2019': 5.282,\n",
      " 'Country (In thousand 60kg bags)': 'Antigua and Barbuda',\n",
      " '_id': ObjectId('642d99b45ad0130771642252')}\n"
     ]
    }
   ],
   "source": [
    "import_coffee = db_coffee_trading.import_coffee\n",
    "pprint(import_coffee.find_one())"
   ]
  },
  {
   "cell_type": "code",
   "execution_count": 10,
   "metadata": {},
   "outputs": [
    {
     "name": "stdout",
     "output_type": "stream",
     "text": [
      "{'1990': 84.35,\n",
      " '1991': 70.501,\n",
      " '1992': 80.25,\n",
      " '1993': 38.878,\n",
      " '1994': 8.302,\n",
      " '1995': 40.559,\n",
      " '1996': 51.831,\n",
      " '1997': 50.494,\n",
      " '1998': 53.929,\n",
      " '1999': 50.114,\n",
      " '2000': 21.505,\n",
      " '2001': 14.25,\n",
      " '2002': 9.345,\n",
      " '2003': 17.298,\n",
      " '2004': 5.67,\n",
      " '2005': 4.665,\n",
      " '2006': 5.41,\n",
      " '2007': 3.916,\n",
      " '2008': 6.105,\n",
      " '2009': 6.925,\n",
      " '2010': 4.37,\n",
      " '2011': 7.575,\n",
      " '2012': 8.375,\n",
      " '2013': 5.52,\n",
      " '2014': 9.375,\n",
      " '2015': 10.515,\n",
      " '2016': 10.945,\n",
      " '2017': 9.055,\n",
      " '2018': 9.3233967,\n",
      " '2019': 23.3571778,\n",
      " 'Country (In thousand 60kg bags)': 'Angola',\n",
      " '_id': ObjectId('642d99b597855aa5cfae88e9')}\n"
     ]
    }
   ],
   "source": [
    "export = db_coffee_trading.export\n",
    "pprint(export.find_one())"
   ]
  },
  {
   "cell_type": "code",
   "execution_count": 11,
   "metadata": {},
   "outputs": [
    {
     "name": "stdout",
     "output_type": "stream",
     "text": [
      "{'1990': 36.7471,\n",
      " '1991': 36.6398,\n",
      " '1992': 33.9318,\n",
      " '1993': 23.8924,\n",
      " '1994': 32.742,\n",
      " '1995': 57.1888,\n",
      " '1996': 45.0685,\n",
      " '1997': 38.3562,\n",
      " '1998': 37.8613,\n",
      " '1999': 29.7146,\n",
      " '2000': 18.2801,\n",
      " '2001': 13.2225,\n",
      " '2002': 11.942,\n",
      " '2003': 18.0599,\n",
      " '2004': 20.1724,\n",
      " '2005': None,\n",
      " '2006': None,\n",
      " '2007': 45.3414,\n",
      " '2008': 45.6902,\n",
      " '2009': 43.5931,\n",
      " '2010': 51.3974,\n",
      " '2011': 72.7194,\n",
      " '2012': 68.7288,\n",
      " '2013': None,\n",
      " '2014': None,\n",
      " '2015': 40.0288,\n",
      " '2016': 30.7434,\n",
      " '2017': None,\n",
      " '2018': None,\n",
      " '2019': None,\n",
      " 'Country (US cents/lb)': 'Central African Republic',\n",
      " '_id': ObjectId('642d99b4afb0368fa3cc3c27')}\n"
     ]
    }
   ],
   "source": [
    "grower_received = db_coffee_trading.grower_received\n",
    "pprint(grower_received.find_one())"
   ]
  },
  {
   "cell_type": "code",
   "execution_count": 12,
   "metadata": {},
   "outputs": [
    {
     "name": "stdout",
     "output_type": "stream",
     "text": [
      "{'1990': 1340.0,\n",
      " '1991': 1302.0,\n",
      " '1992': 1212.0,\n",
      " '1993': 1335.0,\n",
      " '1994': 1086.0,\n",
      " '1995': 1012.0,\n",
      " '1996': 1076.0,\n",
      " '1997': 1087.0,\n",
      " '1998': 1105.0,\n",
      " '1999': 1123.0,\n",
      " '2000': 875.0,\n",
      " '2001': 1013.0,\n",
      " '2002': 926.0,\n",
      " '2003': 720.0,\n",
      " '2004': 996.0,\n",
      " '2005': 772.0,\n",
      " '2006': 612.0,\n",
      " '2007': 847.0,\n",
      " '2008': 908.0,\n",
      " '2009': 886.0,\n",
      " '2010': 903.0,\n",
      " '2011': 1117.0,\n",
      " '2012': 1269.0,\n",
      " '2013': 1249.0,\n",
      " '2014': 1135.0,\n",
      " '2015': 1136.0,\n",
      " '2016': 1193.0,\n",
      " '2017': 1162.0,\n",
      " '2018': 1172.0,\n",
      " '2019': 1173.0,\n",
      " 'Country (In thousand 60kg bags)': 'Austria',\n",
      " '_id': ObjectId('642d99b5fc2f3d07b2ad3e14')}\n"
     ]
    }
   ],
   "source": [
    "consumption = db_coffee_trading.consumption\n",
    "pprint(consumption.find_one())"
   ]
  },
  {
   "cell_type": "code",
   "execution_count": 13,
   "metadata": {},
   "outputs": [
    {
     "name": "stdout",
     "output_type": "stream",
     "text": [
      "{'_id': ObjectId('642d9993c151ebcc9339111b'),\n",
      " 'origin_country': {'all': [511, 276, 192, 175, 78, 72, 69, 56, 44, 21, 20],\n",
      "                    'coffee_origin_country': ['Ethiopia',\n",
      "                                              'Kenya',\n",
      "                                              'Panama',\n",
      "                                              'Colombia',\n",
      "                                              'Hawaii',\n",
      "                                              'Indonesia',\n",
      "                                              'Guatemala',\n",
      "                                              'Costa Rica',\n",
      "                                              'El Salvador',\n",
      "                                              'Not disclosed',\n",
      "                                              'Yemen']},\n",
      " 'price': {'PriceRangeUSD_kg': ['< $50',\n",
      "                                '$50 - $100',\n",
      "                                '$100 - $150',\n",
      "                                '$150 - $200',\n",
      "                                '$200 - $300',\n",
      "                                '$300 - $400',\n",
      "                                '$400 - $500',\n",
      "                                '$500 - $1000',\n",
      "                                '> $1000'],\n",
      "           'all': [338, 690, 135, 79, 130, 42, 15, 22, 15]},\n",
      " 'rating': {'all': [952, 453, 128, 31, 3],\n",
      "            'coffee_rating': [94, 95, 96, 97, 98]},\n",
      " 'roast_level': {'all': [3, 292, 218, 40, 1000],\n",
      "                 'roast_level': ['Dark',\n",
      "                                 'Light',\n",
      "                                 'Medium',\n",
      "                                 'Medium-Dark',\n",
      "                                 'Medium-Light']},\n",
      " 'roaster': {'all': [1061, 339, 65, 26, 22, 10, 10, 10, 7, 4],\n",
      "             'roaster_country': ['United States of America',\n",
      "                                 'Taiwan',\n",
      "                                 'China',\n",
      "                                 'United Kingdom',\n",
      "                                 'Canada',\n",
      "                                 'Japan',\n",
      "                                 'South Korea',\n",
      "                                 'Mexico',\n",
      "                                 'Greece',\n",
      "                                 'Antigua and Barbuda']},\n",
      " 'species': {'all': [255, 188, 162, 104, 100, 91, 89, 71, 61, 50],\n",
      "             'species': ['Geisha',\n",
      "                         'Bourbon',\n",
      "                         'Typica',\n",
      "                         'SL28',\n",
      "                         'Landrace',\n",
      "                         'Heirloom',\n",
      "                         'SL34',\n",
      "                         'Caturra',\n",
      "                         'Robusta',\n",
      "                         'Ruiru 11']},\n",
      " 'total_number': '1567'}\n"
     ]
    }
   ],
   "source": [
    "dashboard_all = db_coffee_trading.dashboard_graph_all\n",
    "pprint(dashboard_all.find_one())"
   ]
  }
 ],
 "metadata": {
  "kernelspec": {
   "display_name": "PythonData",
   "language": "python",
   "name": "python3"
  },
  "language_info": {
   "codemirror_mode": {
    "name": "ipython",
    "version": 3
   },
   "file_extension": ".py",
   "mimetype": "text/x-python",
   "name": "python",
   "nbconvert_exporter": "python",
   "pygments_lexer": "ipython3",
   "version": "3.7.7"
  },
  "orig_nbformat": 4,
  "vscode": {
   "interpreter": {
    "hash": "a5387b9da968551e43e0ccab31c37bebadc093c630309dcd510e17231b5b064a"
   }
  }
 },
 "nbformat": 4,
 "nbformat_minor": 2
}
